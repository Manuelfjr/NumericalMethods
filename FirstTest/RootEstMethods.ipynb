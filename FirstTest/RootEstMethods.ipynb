{
  "nbformat": 4,
  "nbformat_minor": 0,
  "metadata": {
    "orig_nbformat": 2,
    "file_extension": ".py",
    "mimetype": "text/x-python",
    "name": "python",
    "npconvert_exporter": "python",
    "pygments_lexer": "ipython3",
    "version": 3,
    "colab": {
      "name": "RootEstMethods.ipynb",
      "provenance": [],
      "collapsed_sections": []
    },
    "kernelspec": {
      "name": "python3",
      "display_name": "Python 3"
    }
  },
  "cells": [
    {
      "cell_type": "markdown",
      "metadata": {
        "id": "2DxTDNsfV0GB",
        "colab_type": "text"
      },
      "source": [
        "# Root estimation Methods\n",
        "\n",
        "## MethodBissect Implemetation"
      ]
    },
    {
      "cell_type": "code",
      "metadata": {
        "id": "P6sVM356V0GF",
        "colab_type": "code",
        "outputId": "e24e1e81-d237-42c4-840a-67ce4cfcdaef",
        "colab": {
          "base_uri": "https://localhost:8080/",
          "height": 265
        }
      },
      "source": [
        "\n",
        "import numpy as np\n",
        "import matplotlib.pyplot as plt\n",
        "\n",
        "f = lambda x: x**(3) - 9*x + 3\n",
        "\n",
        "x = np.linspace(-4, 4, 50)\n",
        "\n",
        "plt.plot(x, f(x))\n",
        "plt.grid(True)"
      ],
      "execution_count": 0,
      "outputs": [
        {
          "output_type": "display_data",
          "data": {
            "image/png": "[encoded data removed]",
            "text/plain": [
              "<Figure size 432x288 with 1 Axes>"
            ]
          },
          "metadata": {
            "tags": []
          }
        }
      ]
    },
    {
      "cell_type": "code",
      "metadata": {
        "id": "0IbKP489V0GL",
        "colab_type": "code",
        "outputId": "879e8539-3e9d-44d6-da52-f3eca7e375c1",
        "colab": {}
      },
      "source": [
        "def Bissect(a,b, f):\n",
        "\n",
        "    toll = 10**(-5)\n",
        "\n",
        "    while np.abs(b - a) > toll:\n",
        "        xm = (b + a)/2\n",
        "        if f(a) * f(xm) > 0:\n",
        "            a = xm\n",
        "        else:\n",
        "            b = xm\n",
        "    return xm\n",
        "\n",
        "Bissect(0, 1, f)"
      ],
      "execution_count": 0,
      "outputs": [
        {
          "output_type": "execute_result",
          "data": {
            "text/plain": [
              "0.33760833740234375"
            ]
          },
          "metadata": {
            "tags": []
          },
          "execution_count": 4
        }
      ]
    },
    {
      "cell_type": "markdown",
      "metadata": {
        "id": "peioKKmIV0GP",
        "colab_type": "text"
      },
      "source": [
        "## MethodeFalsePosition Implemetation"
      ]
    },
    {
      "cell_type": "code",
      "metadata": {
        "id": "4BrgXuQaV0GQ",
        "colab_type": "code",
        "outputId": "572445a8-d05e-4164-dab8-7591ccadb00c",
        "colab": {}
      },
      "source": [
        "def FalsePosition(a, b, f):\n",
        "    toll = 10**(-5)\n",
        "    \n",
        "    while np.abs(b - a) > toll:\n",
        "        xm = (f(b) * a - b * f(a))/(f(b) - f(a))\n",
        "        if f(a) * f(xm) > 0:\n",
        "            a = xm\n",
        "        else:\n",
        "            b = xm\n",
        "    return xm\n",
        "\n",
        "FalsePosition(-4, 4, f = lambda x: x**(3) - 9*x + 3)"
      ],
      "execution_count": 0,
      "outputs": [
        {
          "output_type": "execute_result",
          "data": {
            "text/plain": [
              "-3.154523008695207"
            ]
          },
          "metadata": {
            "tags": []
          },
          "execution_count": 6
        }
      ]
    },
    {
      "cell_type": "markdown",
      "metadata": {
        "id": "iEVlesSRV0GU",
        "colab_type": "text"
      },
      "source": [
        "## MethodeNewtonRaphson Implemetation"
      ]
    },
    {
      "cell_type": "code",
      "metadata": {
        "id": "wJxgqgyXV0GV",
        "colab_type": "code",
        "outputId": "f51d0967-4899-40a4-80da-1af8462293c6",
        "colab": {}
      },
      "source": [
        "\n",
        "def NewtonRaphson(x0, f, df):\n",
        "    toll = 10**(-8)\n",
        "    i = 1\n",
        "    N = 10**(4)\n",
        "    while i < N:\n",
        "        xk1 = x0 - f(x0)/df(x0)\n",
        "        print('i = {} => f(x) = {}'.format(i, f(xk1)))\n",
        "        if np.abs(x0 - xk1) < toll:\n",
        "            break\n",
        "        else:\n",
        "            x0 = xk1\n",
        "            i += 1\n",
        "    return xk1\n",
        "\n",
        "NewtonRaphson(3, f = lambda x: x**(3) - 9*x + 3,df =  lambda x: 3 * x**(2) - 9)"
      ],
      "execution_count": 0,
      "outputs": [
        {
          "output_type": "stream",
          "text": [
            "i = 1 => f(x) = 0.2453703703703738\n",
            "i = 2 => f(x) = 0.0022451043843432217\n",
            "i = 3 => f(x) = 1.942743637073363e-07\n",
            "i = 4 => f(x) = 0.0\n",
            "i = 5 => f(x) = 0.0\n"
          ],
          "name": "stdout"
        },
        {
          "output_type": "execute_result",
          "data": {
            "text/plain": [
              "2.816914052729369"
            ]
          },
          "metadata": {
            "tags": []
          },
          "execution_count": 63
        }
      ]
    },
    {
      "cell_type": "markdown",
      "metadata": {
        "id": "G1R1s49RV0GZ",
        "colab_type": "text"
      },
      "source": [
        "## MethodeSecantes Implemetation"
      ]
    },
    {
      "cell_type": "code",
      "metadata": {
        "id": "ueGGiV4vV0Ga",
        "colab_type": "code",
        "outputId": "dd8ec257-7ba2-40c4-8287-20bd1b3d22ca",
        "colab": {}
      },
      "source": [
        "def Secantes(xn, xn1, f):\n",
        "    toll = 10**(-5)\n",
        "    N = 100\n",
        "    i = 1\n",
        "    while i < N:\n",
        "        xN1 = (f(xn) * xn1 - f(xn1) * xn)/(f(xn) - f(xn1))\n",
        "        print('i = {} => f(x) = {}'.format(i, f(xN1)))\n",
        "        if toll < abs(xN1 - xn):\n",
        "            xn1 = xn\n",
        "            xn = xN1\n",
        "            i += 1\n",
        "        else:\n",
        "            break\n",
        "    return xN1\n",
        "\n",
        "Secantes(100, 99, f = lambda x: x**(3) - 9*x + 3) "
      ],
      "execution_count": 0,
      "outputs": [
        {
          "output_type": "stream",
          "text": [
            "i = 1 => f(x) = 291514.52757816185\n",
            "i = 2 => f(x) = 144137.22869442354\n",
            "i = 3 => f(x) = 58654.24605098365\n",
            "i = 4 => f(x) = 25742.98260668339\n",
            "i = 5 => f(x) = 10967.450763277451\n",
            "i = 6 => f(x) = 4719.908837607411\n",
            "i = 7 => f(x) = 2018.4744425962876\n",
            "i = 8 => f(x) = 861.6351945948547\n",
            "i = 9 => f(x) = 365.30296167479287\n",
            "i = 10 => f(x) = 153.1784335882552\n",
            "i = 11 => f(x) = 62.87194892985603\n",
            "i = 12 => f(x) = 24.735986149279356\n",
            "i = 13 => f(x) = 8.89968978796685\n",
            "i = 14 => f(x) = 2.632488725494298\n",
            "i = 15 => f(x) = 0.5101069322064085\n",
            "i = 16 => f(x) = 0.0426826332753123\n",
            "i = 17 => f(x) = 0.0008087315030174125\n",
            "i = 18 => f(x) = 1.3268751963835257e-06\n",
            "i = 19 => f(x) = 4.1378456216989434e-11\n"
          ],
          "name": "stdout"
        },
        {
          "output_type": "execute_result",
          "data": {
            "text/plain": [
              "2.8169140527321637"
            ]
          },
          "metadata": {
            "tags": []
          },
          "execution_count": 48
        }
      ]
    },
    {
      "cell_type": "markdown",
      "metadata": {
        "id": "njITd44cV0Ge",
        "colab_type": "text"
      },
      "source": [
        "## A class of root estimation methods"
      ]
    },
    {
      "cell_type": "code",
      "metadata": {
        "id": "8MBdY_QQV0Gf",
        "colab_type": "code",
        "outputId": "c50fb1c3-8b73-4148-9fc8-c2bffddedb94",
        "colab": {
          "base_uri": "https://localhost:8080/",
          "height": 265
        }
      },
      "source": [
        "# Root Approximation Methods\n",
        "import numpy as np\n",
        "import matplotlib.pyplot as plt\n",
        "\n",
        "class RootsMeth:\n",
        "\n",
        "    def __init__(self, toll):\n",
        "        self.toll = toll\n",
        "    \n",
        "    def plot(self,f, xmin, xmax):\n",
        "        x = np.linspace(xmin, xmax, 50)\n",
        "        \n",
        "        plt.plot(x, f(x))\n",
        "        plt.grid(True)  \n",
        "\n",
        "    def bis(self,a,b, f):\n",
        "        i = 1\n",
        "        while np.abs(b - a) > self.toll:\n",
        "            xm = (b + a)/2\n",
        "            print('i = {} => f({}) = {} || |{} - {}| < {} [{}]'.format(i, xk1, f(xk1), b, a, self.toll, np.abs(b - a) < self.toll ))\n",
        "            if f(a) * f(xm) > 0:\n",
        "                a = xm\n",
        "            else:\n",
        "                b = xm\n",
        "            i += 1\n",
        "        return xm\n",
        "    def fpt(self, a, b, f):\n",
        "        i = 1\n",
        "        while np.abs(b - a) > self.toll:\n",
        "            xm = (f(b) * a - b * f(a))/(f(b) - f(a))\n",
        "            print('i = {} => f({}) = {} || |{} - {}| < {} [{}]'.format(i, xm, f(xm), b, a, self.toll, np.abs(b - a) < self.toll ))\n",
        "            if f(a) * f(xm) > 0:\n",
        "                a = xm\n",
        "            else:\n",
        "                b = xm\n",
        "            i += 1\n",
        "        return xm\n",
        "    def nrph(self, x0, f, df):\n",
        "        i = 1\n",
        "        N = 10**(4)\n",
        "        while i < N:\n",
        "            xk1 = x0 - f(x0)/df(x0)\n",
        "            print('i = {} => f({}) = {} || |{} - {}| < {} [{}]'.format(i, xk1, f(xk1), xk1, x0, self.toll, np.abs(x0 - xk1) < self.toll ))\n",
        "            if np.abs(x0 - xk1) < self.toll:\n",
        "                break\n",
        "            else:\n",
        "                x0 = xk1\n",
        "                i += 1\n",
        "        return xk1\n",
        "    def sct(self, xn, xn1, f):\n",
        "        N = 100\n",
        "        i = 1\n",
        "        while i < N:\n",
        "            xN1 = (f(xn) * xn1 - f(xn1) * xn)/(f(xn) - f(xn1))\n",
        "            print('i = {} => f({}) = {} '.format(i, xN1, f(xN1)))\n",
        "            if self.toll < abs(xN1 - xn):\n",
        "                xn1 = xn\n",
        "                xn = xN1\n",
        "                i += 1\n",
        "            else:\n",
        "                break\n",
        "        return xN1\n",
        "\n",
        "    \n",
        "\n",
        "\n",
        "RootsMeth(10**(-8)).plot(xmin = -4, xmax = 4, f = lambda x: np.sin(x))"
      ],
      "execution_count": 24,
      "outputs": [
        {
          "output_type": "display_data",
          "data": {
            "image/png": "[encoded data removed]",
            "text/plain": [
              "<Figure size 432x288 with 1 Axes>"
            ]
          },
          "metadata": {
            "tags": []
          }
        }
      ]
    },
    {
      "cell_type": "code",
      "metadata": {
        "id": "-nYKRWWPV0Gj",
        "colab_type": "code",
        "outputId": "e32e7ca8-c7dd-4b07-fc89-2fe0d478fdde",
        "colab": {
          "base_uri": "https://localhost:8080/",
          "height": 102
        }
      },
      "source": [
        "RootsMeth(10**(-5)).nrph(f = lambda x: np.exp(x) - 3*x**(2), df = lambda x: np.exp(x) - 6 *x, x0 = 1)"
      ],
      "execution_count": 29,
      "outputs": [
        {
          "output_type": "stream",
          "text": [
            "i = 1 => f(0.9141552818325432) = -0.01237256688275945 || |0.9141552818325432 - 1| < 1e-05 [False]\n",
            "i = 2 => f(0.9100176657834059) = -3.003483737851198e-05 || |0.9100176657834059 - 0.9141552818325432| < 1e-05 [False]\n",
            "i = 3 => f(0.9100075725488881) = -1.790749770691491e-10 || |0.9100075725488881 - 0.9100176657834059| < 1e-05 [False]\n",
            "i = 4 => f(0.9100075724887091) = -4.440892098500626e-16 || |0.9100075724887091 - 0.9100075725488881| < 1e-05 [True]\n"
          ],
          "name": "stdout"
        },
        {
          "output_type": "execute_result",
          "data": {
            "text/plain": [
              "0.9100075724887091"
            ]
          },
          "metadata": {
            "tags": []
          },
          "execution_count": 29
        }
      ]
    },
    {
      "cell_type": "code",
      "metadata": {
        "id": "rhmyoVqZV0Gm",
        "colab_type": "code",
        "colab": {
          "base_uri": "https://localhost:8080/",
          "height": 34
        },
        "outputId": "882ad1d2-75fb-4a91-8b1d-6dbafecb244b"
      },
      "source": [
        "f = lambda x: np.exp(x) - 3 * x**(2)\n",
        "df = lambda x: np.exp(x) - np.log1p(2) * 2**(-x) - 2 * np.sin(x)\n",
        "f(1.829389860421802)"
      ],
      "execution_count": 15,
      "outputs": [
        {
          "output_type": "execute_result",
          "data": {
            "text/plain": [
              "2.5669321749965945e-05"
            ]
          },
          "metadata": {
            "tags": []
          },
          "execution_count": 15
        }
      ]
    },
    {
      "cell_type": "code",
      "metadata": {
        "id": "vQPZZbCPfE7D",
        "colab_type": "code",
        "colab": {}
      },
      "source": [
        ""
      ],
      "execution_count": 0,
      "outputs": []
    }
  ]
}