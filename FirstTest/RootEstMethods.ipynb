{
 "cells": [
  {
   "cell_type": "markdown",
   "metadata": {
    "colab_type": "text",
    "id": "2DxTDNsfV0GB"
   },
   "source": [
    "# Root estimation Methods\n",
    "\n",
    "## MethodBissect Implemetation"
   ]
  },
  {
   "cell_type": "code",
   "execution_count": 0,
   "metadata": {
    "colab": {
     "base_uri": "https://localhost:8080/",
     "height": 265
    },
    "colab_type": "code",
    "id": "P6sVM356V0GF",
    "outputId": "e24e1e81-d237-42c4-840a-67ce4cfcdaef"
   },
   "outputs": [
    {
     "data": {
      "image/png": "[encoded data removed]",
      "text/plain": [
       "<Figure size 432x288 with 1 Axes>"
      ]
     },
     "metadata": {
      "tags": []
     },
     "output_type": "display_data"
    }
   ],
   "source": [
    "\n",
    "import numpy as np\n",
    "import matplotlib.pyplot as plt\n",
    "\n",
    "f = lambda x: x**(3) - 9*x + 3\n",
    "\n",
    "x = np.linspace(-4, 4, 50)\n",
    "\n",
    "plt.plot(x, f(x))\n",
    "plt.grid(True)"
   ]
  },
  {
   "cell_type": "code",
   "execution_count": 0,
   "metadata": {
    "colab": {},
    "colab_type": "code",
    "id": "0IbKP489V0GL",
    "outputId": "879e8539-3e9d-44d6-da52-f3eca7e375c1"
   },
   "outputs": [
    {
     "data": {
      "text/plain": [
       "0.33760833740234375"
      ]
     },
     "execution_count": 4,
     "metadata": {
      "tags": []
     },
     "output_type": "execute_result"
    }
   ],
   "source": [
    "def Bissect(a,b, f):\n",
    "\n",
    "    toll = 10**(-5)\n",
    "\n",
    "    while np.abs(b - a) > toll:\n",
    "        xm = (b + a)/2\n",
    "        if f(a) * f(xm) > 0:\n",
    "            a = xm\n",
    "        else:\n",
    "            b = xm\n",
    "    return xm\n",
    "\n",
    "Bissect(0, 1, f)"
   ]
  },
  {
   "cell_type": "markdown",
   "metadata": {
    "colab_type": "text",
    "id": "peioKKmIV0GP"
   },
   "source": [
    "## MethodeFalsePosition Implemetation"
   ]
  },
  {
   "cell_type": "code",
   "execution_count": 0,
   "metadata": {
    "colab": {},
    "colab_type": "code",
    "id": "4BrgXuQaV0GQ",
    "outputId": "572445a8-d05e-4164-dab8-7591ccadb00c"
   },
   "outputs": [
    {
     "data": {
      "text/plain": [
       "-3.154523008695207"
      ]
     },
     "execution_count": 6,
     "metadata": {
      "tags": []
     },
     "output_type": "execute_result"
    }
   ],
   "source": [
    "def FalsePosition(a, b, f):\n",
    "    toll = 10**(-5)\n",
    "    \n",
    "    while np.abs(b - a) > toll:\n",
    "        xm = (f(b) * a - b * f(a))/(f(b) - f(a))\n",
    "        if f(a) * f(xm) > 0:\n",
    "            a = xm\n",
    "        else:\n",
    "            b = xm\n",
    "    return xm\n",
    "\n",
    "FalsePosition(-4, 4, f = lambda x: x**(3) - 9*x + 3)"
   ]
  },
  {
   "cell_type": "markdown",
   "metadata": {
    "colab_type": "text",
    "id": "iEVlesSRV0GU"
   },
   "source": [
    "## MethodeNewtonRaphson Implemetation"
   ]
  },
  {
   "cell_type": "code",
   "execution_count": 0,
   "metadata": {
    "colab": {},
    "colab_type": "code",
    "id": "wJxgqgyXV0GV",
    "outputId": "f51d0967-4899-40a4-80da-1af8462293c6"
   },
   "outputs": [
    {
     "name": "stdout",
     "output_type": "stream",
     "text": [
      "i = 1 => f(x) = 0.2453703703703738\n",
      "i = 2 => f(x) = 0.0022451043843432217\n",
      "i = 3 => f(x) = 1.942743637073363e-07\n",
      "i = 4 => f(x) = 0.0\n",
      "i = 5 => f(x) = 0.0\n"
     ]
    },
    {
     "data": {
      "text/plain": [
       "2.816914052729369"
      ]
     },
     "execution_count": 63,
     "metadata": {
      "tags": []
     },
     "output_type": "execute_result"
    }
   ],
   "source": [
    "\n",
    "def NewtonRaphson(x0, f, df):\n",
    "    toll = 10**(-8)\n",
    "    i = 1\n",
    "    N = 10**(4)\n",
    "    while i < N:\n",
    "        xk1 = x0 - f(x0)/df(x0)\n",
    "        print('i = {} => f(x) = {}'.format(i, f(xk1)))\n",
    "        if np.abs(x0 - xk1) < toll:\n",
    "            break\n",
    "        else:\n",
    "            x0 = xk1\n",
    "            i += 1\n",
    "    return xk1\n",
    "\n",
    "NewtonRaphson(3, f = lambda x: x**(3) - 9*x + 3,df =  lambda x: 3 * x**(2) - 9)"
   ]
  },
  {
   "cell_type": "markdown",
   "metadata": {
    "colab_type": "text",
    "id": "G1R1s49RV0GZ"
   },
   "source": [
    "## MethodeSecantes Implemetation"
   ]
  },
  {
   "cell_type": "code",
   "execution_count": 0,
   "metadata": {
    "colab": {},
    "colab_type": "code",
    "id": "ueGGiV4vV0Ga",
    "outputId": "dd8ec257-7ba2-40c4-8287-20bd1b3d22ca"
   },
   "outputs": [
    {
     "name": "stdout",
     "output_type": "stream",
     "text": [
      "i = 1 => f(x) = 291514.52757816185\n",
      "i = 2 => f(x) = 144137.22869442354\n",
      "i = 3 => f(x) = 58654.24605098365\n",
      "i = 4 => f(x) = 25742.98260668339\n",
      "i = 5 => f(x) = 10967.450763277451\n",
      "i = 6 => f(x) = 4719.908837607411\n",
      "i = 7 => f(x) = 2018.4744425962876\n",
      "i = 8 => f(x) = 861.6351945948547\n",
      "i = 9 => f(x) = 365.30296167479287\n",
      "i = 10 => f(x) = 153.1784335882552\n",
      "i = 11 => f(x) = 62.87194892985603\n",
      "i = 12 => f(x) = 24.735986149279356\n",
      "i = 13 => f(x) = 8.89968978796685\n",
      "i = 14 => f(x) = 2.632488725494298\n",
      "i = 15 => f(x) = 0.5101069322064085\n",
      "i = 16 => f(x) = 0.0426826332753123\n",
      "i = 17 => f(x) = 0.0008087315030174125\n",
      "i = 18 => f(x) = 1.3268751963835257e-06\n",
      "i = 19 => f(x) = 4.1378456216989434e-11\n"
     ]
    },
    {
     "data": {
      "text/plain": [
       "2.8169140527321637"
      ]
     },
     "execution_count": 48,
     "metadata": {
      "tags": []
     },
     "output_type": "execute_result"
    }
   ],
   "source": [
    "def Secantes(xn, xn1, f):\n",
    "    toll = 10**(-5)\n",
    "    N = 100\n",
    "    i = 1\n",
    "    while i < N:\n",
    "        xN1 = (f(xn) * xn1 - f(xn1) * xn)/(f(xn) - f(xn1))\n",
    "        print('i = {} => f(x) = {}'.format(i, f(xN1)))\n",
    "        if toll < abs(xN1 - xn):\n",
    "            xn1 = xn\n",
    "            xn = xN1\n",
    "            i += 1\n",
    "        else:\n",
    "            break\n",
    "    return xN1\n",
    "\n",
    "Secantes(100, 99, f = lambda x: x**(3) - 9*x + 3) "
   ]
  },
  {
   "cell_type": "markdown",
   "metadata": {
    "colab_type": "text",
    "id": "njITd44cV0Ge"
   },
   "source": [
    "## A class of root estimation methods"
   ]
  },
  {
   "cell_type": "code",
   "execution_count": 47,
   "metadata": {
    "colab": {
     "base_uri": "https://localhost:8080/",
     "height": 265
    },
    "colab_type": "code",
    "id": "8MBdY_QQV0Gf",
    "outputId": "21c12a70-cea5-4c4b-dec1-84ac9ae6f410"
   },
   "outputs": [
    {
     "data": {
      "image/png": "[encoded data removed]",
      "text/plain": [
       "<Figure size 432x288 with 1 Axes>"
      ]
     },
     "metadata": {
      "needs_background": "light"
     },
     "output_type": "display_data"
    }
   ],
   "source": [
    "# Root Approximation Methods\n",
    "import numpy as np\n",
    "import matplotlib.pyplot as plt\n",
    "\n",
    "class RootsMeth:\n",
    "\n",
    "    def __init__(self, toll):\n",
    "        self.toll = toll\n",
    "    \n",
    "    def plot(self,f, xmin, xmax):\n",
    "        x = np.linspace(xmin, xmax, 50)\n",
    "        \n",
    "        plt.plot(x, f(x))\n",
    "        plt.grid(True)  \n",
    "\n",
    "    def bis(self,a,b, f):\n",
    "        i = 1\n",
    "        while np.abs(b - a) > self.toll:\n",
    "            xm = (b + a)/2\n",
    "            print('i = {} => f({}) = {} || |{} - {}| < {} [{}]'.format(i, xm, f(xm), b, a, self.toll, np.abs(b - a) < self.toll ))\n",
    "            if f(a) * f(xm) > 0:\n",
    "                a = xm\n",
    "            else:\n",
    "                b = xm\n",
    "            i += 1\n",
    "        return xm\n",
    "    def fpt(self, a, b, f):\n",
    "        i = 1\n",
    "        while np.abs((b - a)) > self.toll:\n",
    "            xm = (f(b) * a - b * f(a))/(f(b) - f(a))\n",
    "            print('i = {} => f({}) = {} || |{} - {}| < {} [{}]'.format(i, xm, f(xm), b, a, self.toll, np.abs(b - a) < self.toll ))\n",
    "            if f(b) * f(xm) > 0:\n",
    "                b = xm\n",
    "            else:\n",
    "                a = xm\n",
    "            if np.abs(f(xm)) < self.toll:\n",
    "                break\n",
    "            i += 1\n",
    "        return xm\n",
    "    def nrph(self, x0, f, df):\n",
    "        i = 1\n",
    "        N = 10**(4)\n",
    "        while i < N:\n",
    "            xk1 = x0 - f(x0)/df(x0)\n",
    "            print('i = {} => f({}) = {} || |{} - {}| < {} [{}]'.format(i, xk1, f(xk1), xk1, x0, self.toll, np.abs(x0 - xk1) < self.toll ))\n",
    "            if np.abs(x0 - xk1) < self.toll:\n",
    "                break\n",
    "            else:\n",
    "                x0 = xk1\n",
    "                i += 1\n",
    "        return xk1\n",
    "    def sct(self, xn, xn1, f):\n",
    "        N = 100\n",
    "        i = 1\n",
    "        while i < N:\n",
    "            xN1 = (f(xn) * xn1 - f(xn1) * xn)/(f(xn) - f(xn1))\n",
    "            print('i = {} => f({}) = {} '.format(i, xN1, f(xN1)))\n",
    "            if self.toll < abs(xN1 - xn):\n",
    "                xn1 = xn\n",
    "                xn = xN1\n",
    "                i += 1\n",
    "            else:\n",
    "                break\n",
    "        return xN1\n",
    "\n",
    "    \n",
    "\n",
    "\n",
    "RootsMeth(10**(-8)).plot(xmin = -4, xmax = 4, f = lambda x: np.sin(x))"
   ]
  },
  {
   "cell_type": "code",
   "execution_count": 41,
   "metadata": {
    "colab": {
     "base_uri": "https://localhost:8080/",
     "height": 102
    },
    "colab_type": "code",
    "id": "-nYKRWWPV0Gj",
    "outputId": "bd780019-2c9d-43b3-ee1e-f8f3781a74fa"
   },
   "outputs": [
    {
     "name": "stdout",
     "output_type": "stream",
     "text": [
      "i = 1 => f(0.9141552818325432) = -0.01237256688275945 || |0.9141552818325432 - 1| < 1e-05 [False]\n",
      "i = 2 => f(0.9100176657834059) = -3.003483737851198e-05 || |0.9100176657834059 - 0.9141552818325432| < 1e-05 [False]\n",
      "i = 3 => f(0.9100075725488881) = -1.790749770691491e-10 || |0.9100075725488881 - 0.9100176657834059| < 1e-05 [False]\n",
      "i = 4 => f(0.9100075724887091) = -4.440892098500626e-16 || |0.9100075724887091 - 0.9100075725488881| < 1e-05 [True]\n"
     ]
    },
    {
     "data": {
      "text/plain": [
       "0.9100075724887091"
      ]
     },
     "execution_count": 41,
     "metadata": {},
     "output_type": "execute_result"
    }
   ],
   "source": [
    "RootsMeth(10**(-5)).nrph(f = lambda x: np.exp(x) - 3*x**(2), df = lambda x: np.exp(x) - 6 *x, x0 = 1)"
   ]
  },
  {
   "cell_type": "code",
   "execution_count": 42,
   "metadata": {
    "colab": {
     "base_uri": "https://localhost:8080/",
     "height": 238
    },
    "colab_type": "code",
    "id": "rhmyoVqZV0Gm",
    "outputId": "a6b0c204-e719-470a-d78f-23ca4b62fd8c"
   },
   "outputs": [
    {
     "name": "stdout",
     "output_type": "stream",
     "text": [
      "i = 1 => f(-2.5) = -2.167915001376101 || |-2 - -3| < 0.04 [False]\n",
      "i = 2 => f(-2.25) = -0.9571007754381355 || |-2 - -2.5| < 0.04 [False]\n",
      "i = 3 => f(-2.125) = -0.3961920317332801 || |-2 - -2.25| < 0.04 [False]\n",
      "i = 4 => f(-2.0625) = -0.12677051706796405 || |-2 - -2.125| < 0.04 [False]\n",
      "i = 5 => f(-2.03125) = 0.005194891810194058 || |-2 - -2.0625| < 0.04 [False]\n"
     ]
    },
    {
     "data": {
      "text/plain": [
       "-2.03125"
      ]
     },
     "execution_count": 42,
     "metadata": {},
     "output_type": "execute_result"
    }
   ],
   "source": [
    "rm = RootsMeth(5**(-2))\n",
    "\n",
    "rm.bis(f = lambda x: np.exp(x) - x**(2) + 4 , a = -3, b = -2)"
   ]
  },
  {
   "cell_type": "code",
   "execution_count": 43,
   "metadata": {
    "colab": {
     "base_uri": "https://localhost:8080/",
     "height": 282
    },
    "colab_type": "code",
    "id": "vQPZZbCPfE7D",
    "outputId": "767564de-2fcf-4f6e-bd56-b04d3c062ea4"
   },
   "outputs": [
    {
     "data": {
      "text/plain": [
       "False"
      ]
     },
     "execution_count": 43,
     "metadata": {},
     "output_type": "execute_result"
    },
    {
     "data": {
      "image/png": "[encoded data removed]",
      "text/plain": [
       "<Figure size 432x288 with 1 Axes>"
      ]
     },
     "metadata": {
      "needs_background": "light"
     },
     "output_type": "display_data"
    }
   ],
   "source": [
    "rm.plot(xmin = -1, xmax = 0, f = lambda x: -x**(3) - np.cos(x))\n",
    "2.00048828125 - 1.9991455078125 < 0.001"
   ]
  },
  {
   "cell_type": "code",
   "execution_count": 44,
   "metadata": {
    "colab": {
     "base_uri": "https://localhost:8080/",
     "height": 102
    },
    "colab_type": "code",
    "id": "LMnFlyG2mCot",
    "outputId": "502ca2da-351f-4b91-e348-9eeebda43bd0"
   },
   "outputs": [
    {
     "name": "stdout",
     "output_type": "stream",
     "text": [
      "i = 1 => f(3.142546543074278) = -0.0009538893398264409 || |3.142546543074278 - 3| < 0.04 [False]\n",
      "i = 2 => f(3.141592653300477) = 2.8931624907621843e-10 || |3.141592653300477 - 3.142546543074278| < 0.04 [True]\n"
     ]
    },
    {
     "data": {
      "text/plain": [
       "3.141592653300477"
      ]
     },
     "execution_count": 44,
     "metadata": {},
     "output_type": "execute_result"
    }
   ],
   "source": [
    "rm.nrph(f = lambda x: np.sin(x), df = lambda x: np.cos(x), x0 = 3)"
   ]
  },
  {
   "cell_type": "code",
   "execution_count": 45,
   "metadata": {
    "colab": {
     "base_uri": "https://localhost:8080/",
     "height": 102
    },
    "colab_type": "code",
    "id": "UMwhKBXinB-x",
    "outputId": "95da1aba-b2e8-4e24-c75c-f6c5c273f880"
   },
   "outputs": [
    {
     "data": {
      "text/plain": [
       "(2.172580311343708e-05,\n",
       " -3.6746221141968864,\n",
       " 0.714805912391108,\n",
       " 5.912391108031656e-06,\n",
       " True)"
      ]
     },
     "execution_count": 45,
     "metadata": {},
     "output_type": "execute_result"
    }
   ],
   "source": [
    "f = lambda x: np.exp(x) - 4 * x**(2)\n",
    "df = lambda x: np.exp(x) - 8*x\n",
    "x0 = 0.7148\n",
    "\n",
    "f(x0) , df(x0), x0 - f(x0)/df(x0) , np.abs((x0 - f(x0)/df(x0)) - x0), np.abs((x0 - f(x0)/df(x0)) - x0) < 10**(-3)\n"
   ]
  },
  {
   "cell_type": "code",
   "execution_count": 48,
   "metadata": {
    "colab": {},
    "colab_type": "code",
    "id": "JEQEjBmGnEhs"
   },
   "outputs": [
    {
     "name": "stdout",
     "output_type": "stream",
     "text": [
      "i = 1 => f(-0.6850733573260451) = -0.45285023447500383 || |0 - -1| < 0.001 [False]\n",
      "i = 2 => f(-0.8413551256656522) = -0.07087596815494901 || |-0.6850733573260451 - -1| < 0.001 [False]\n",
      "i = 3 => f(-0.8625474875571268) = -0.008779633363005357 || |-0.8413551256656522 - -1| < 0.001 [False]\n",
      "i = 4 => f(-0.8651234556846038) = -0.0010543667650292354 || |-0.8625474875571268 - -1| < 0.001 [False]\n",
      "i = 5 => f(-0.8654321018259392) = -0.00012614672481692235 || |-0.8651234556846038 - -1| < 0.001 [False]\n"
     ]
    },
    {
     "data": {
      "text/plain": [
       "-0.8654321018259392"
      ]
     },
     "execution_count": 48,
     "metadata": {},
     "output_type": "execute_result"
    }
   ],
   "source": [
    "rm = RootsMeth(10**(-3))\n",
    "\n",
    "rm.fpt(f = lambda x: -x**(3) - np.cos(x), a = -1, b = 0)"
   ]
  },
  {
   "cell_type": "code",
   "execution_count": 29,
   "metadata": {},
   "outputs": [
    {
     "data": {
      "text/plain": [
       "(-0.0009538893398264409, -0.9999995450474601, 3.141592653300477)"
      ]
     },
     "execution_count": 29,
     "metadata": {},
     "output_type": "execute_result"
    }
   ],
   "source": [
    "f = lambda x: np.sin(x)\n",
    "df = lambda x: np.cos(x)\n",
    "x = 3.142546543074278\n",
    "f(x), df(x), x - f(x)/df(x)"
   ]
  },
  {
   "cell_type": "code",
   "execution_count": null,
   "metadata": {},
   "outputs": [],
   "source": []
  }
 ],
 "metadata": {
  "colab": {
   "collapsed_sections": [],
   "name": "RootEstMethods.ipynb",
   "provenance": []
  },
  "file_extension": ".py",
  "kernelspec": {
   "display_name": "Python 3",
   "language": "python",
   "name": "python3"
  },
  "language_info": {
   "codemirror_mode": {
    "name": "ipython",
    "version": 3
   },
   "file_extension": ".py",
   "mimetype": "text/x-python",
   "name": "python",
   "nbconvert_exporter": "python",
   "pygments_lexer": "ipython3",
   "version": "3.7.3"
  },
  "mimetype": "text/x-python",
  "name": "python",
  "npconvert_exporter": "python",
  "pygments_lexer": "ipython3",
  "version": 3
 },
 "nbformat": 4,
 "nbformat_minor": 1
}
