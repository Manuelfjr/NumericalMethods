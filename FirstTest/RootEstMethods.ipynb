{
  "nbformat": 4,
  "nbformat_minor": 0,
  "metadata": {
    "orig_nbformat": 2,
    "file_extension": ".py",
    "mimetype": "text/x-python",
    "name": "python",
    "npconvert_exporter": "python",
    "pygments_lexer": "ipython3",
    "version": 3,
    "colab": {
      "name": "RootEstMethods.ipynb",
      "provenance": [],
      "collapsed_sections": []
    },
    "kernelspec": {
      "name": "python3",
      "display_name": "Python 3"
    }
  },
  "cells": [
    {
      "cell_type": "markdown",
      "metadata": {
        "id": "2DxTDNsfV0GB",
        "colab_type": "text"
      },
      "source": [
        "# Root estimation Methods\n",
        "\n",
        "## MethodBissect Implemetation"
      ]
    },
    {
      "cell_type": "code",
      "metadata": {
        "id": "P6sVM356V0GF",
        "colab_type": "code",
        "outputId": "e24e1e81-d237-42c4-840a-67ce4cfcdaef",
        "colab": {
          "base_uri": "https://localhost:8080/",
          "height": 265
        }
      },
      "source": [
        "\n",
        "import numpy as np\n",
        "import matplotlib.pyplot as plt\n",
        "\n",
        "f = lambda x: x**(3) - 9*x + 3\n",
        "\n",
        "x = np.linspace(-4, 4, 50)\n",
        "\n",
        "plt.plot(x, f(x))\n",
        "plt.grid(True)"
      ],
      "execution_count": 0,
      "outputs": [
        {
          "output_type": "display_data",
          "data": {
            "image/png": "[encoded data removed]",
            "text/plain": [
              "<Figure size 432x288 with 1 Axes>"
            ]
          },
          "metadata": {
            "tags": []
          }
        }
      ]
    },
    {
      "cell_type": "code",
      "metadata": {
        "id": "0IbKP489V0GL",
        "colab_type": "code",
        "outputId": "879e8539-3e9d-44d6-da52-f3eca7e375c1",
        "colab": {}
      },
      "source": [
        "def Bissect(a,b, f):\n",
        "\n",
        "    toll = 10**(-5)\n",
        "\n",
        "    while np.abs(b - a) > toll:\n",
        "        xm = (b + a)/2\n",
        "        if f(a) * f(xm) > 0:\n",
        "            a = xm\n",
        "        else:\n",
        "            b = xm\n",
        "    return xm\n",
        "\n",
        "Bissect(0, 1, f)"
      ],
      "execution_count": 0,
      "outputs": [
        {
          "output_type": "execute_result",
          "data": {
            "text/plain": [
              "0.33760833740234375"
            ]
          },
          "metadata": {
            "tags": []
          },
          "execution_count": 4
        }
      ]
    },
    {
      "cell_type": "markdown",
      "metadata": {
        "id": "peioKKmIV0GP",
        "colab_type": "text"
      },
      "source": [
        "## MethodeFalsePosition Implemetation"
      ]
    },
    {
      "cell_type": "code",
      "metadata": {
        "id": "4BrgXuQaV0GQ",
        "colab_type": "code",
        "outputId": "572445a8-d05e-4164-dab8-7591ccadb00c",
        "colab": {}
      },
      "source": [
        "def FalsePosition(a, b, f):\n",
        "    toll = 10**(-5)\n",
        "    \n",
        "    while np.abs(b - a) > toll:\n",
        "        xm = (f(b) * a - b * f(a))/(f(b) - f(a))\n",
        "        if f(a) * f(xm) > 0:\n",
        "            a = xm\n",
        "        else:\n",
        "            b = xm\n",
        "    return xm\n",
        "\n",
        "FalsePosition(-4, 4, f = lambda x: x**(3) - 9*x + 3)"
      ],
      "execution_count": 0,
      "outputs": [
        {
          "output_type": "execute_result",
          "data": {
            "text/plain": [
              "-3.154523008695207"
            ]
          },
          "metadata": {
            "tags": []
          },
          "execution_count": 6
        }
      ]
    },
    {
      "cell_type": "markdown",
      "metadata": {
        "id": "iEVlesSRV0GU",
        "colab_type": "text"
      },
      "source": [
        "## MethodeNewtonRaphson Implemetation"
      ]
    },
    {
      "cell_type": "code",
      "metadata": {
        "id": "wJxgqgyXV0GV",
        "colab_type": "code",
        "outputId": "f51d0967-4899-40a4-80da-1af8462293c6",
        "colab": {}
      },
      "source": [
        "\n",
        "def NewtonRaphson(x0, f, df):\n",
        "    toll = 10**(-8)\n",
        "    i = 1\n",
        "    N = 10**(4)\n",
        "    while i < N:\n",
        "        xk1 = x0 - f(x0)/df(x0)\n",
        "        print('i = {} => f(x) = {}'.format(i, f(xk1)))\n",
        "        if np.abs(x0 - xk1) < toll:\n",
        "            break\n",
        "        else:\n",
        "            x0 = xk1\n",
        "            i += 1\n",
        "    return xk1\n",
        "\n",
        "NewtonRaphson(3, f = lambda x: x**(3) - 9*x + 3,df =  lambda x: 3 * x**(2) - 9)"
      ],
      "execution_count": 0,
      "outputs": [
        {
          "output_type": "stream",
          "text": [
            "i = 1 => f(x) = 0.2453703703703738\n",
            "i = 2 => f(x) = 0.0022451043843432217\n",
            "i = 3 => f(x) = 1.942743637073363e-07\n",
            "i = 4 => f(x) = 0.0\n",
            "i = 5 => f(x) = 0.0\n"
          ],
          "name": "stdout"
        },
        {
          "output_type": "execute_result",
          "data": {
            "text/plain": [
              "2.816914052729369"
            ]
          },
          "metadata": {
            "tags": []
          },
          "execution_count": 63
        }
      ]
    },
    {
      "cell_type": "markdown",
      "metadata": {
        "id": "G1R1s49RV0GZ",
        "colab_type": "text"
      },
      "source": [
        "## MethodeSecantes Implemetation"
      ]
    },
    {
      "cell_type": "code",
      "metadata": {
        "id": "ueGGiV4vV0Ga",
        "colab_type": "code",
        "outputId": "dd8ec257-7ba2-40c4-8287-20bd1b3d22ca",
        "colab": {}
      },
      "source": [
        "def Secantes(xn, xn1, f):\n",
        "    toll = 10**(-5)\n",
        "    N = 100\n",
        "    i = 1\n",
        "    while i < N:\n",
        "        xN1 = (f(xn) * xn1 - f(xn1) * xn)/(f(xn) - f(xn1))\n",
        "        print('i = {} => f(x) = {}'.format(i, f(xN1)))\n",
        "        if toll < abs(xN1 - xn):\n",
        "            xn1 = xn\n",
        "            xn = xN1\n",
        "            i += 1\n",
        "        else:\n",
        "            break\n",
        "    return xN1\n",
        "\n",
        "Secantes(100, 99, f = lambda x: x**(3) - 9*x + 3) "
      ],
      "execution_count": 0,
      "outputs": [
        {
          "output_type": "stream",
          "text": [
            "i = 1 => f(x) = 291514.52757816185\n",
            "i = 2 => f(x) = 144137.22869442354\n",
            "i = 3 => f(x) = 58654.24605098365\n",
            "i = 4 => f(x) = 25742.98260668339\n",
            "i = 5 => f(x) = 10967.450763277451\n",
            "i = 6 => f(x) = 4719.908837607411\n",
            "i = 7 => f(x) = 2018.4744425962876\n",
            "i = 8 => f(x) = 861.6351945948547\n",
            "i = 9 => f(x) = 365.30296167479287\n",
            "i = 10 => f(x) = 153.1784335882552\n",
            "i = 11 => f(x) = 62.87194892985603\n",
            "i = 12 => f(x) = 24.735986149279356\n",
            "i = 13 => f(x) = 8.89968978796685\n",
            "i = 14 => f(x) = 2.632488725494298\n",
            "i = 15 => f(x) = 0.5101069322064085\n",
            "i = 16 => f(x) = 0.0426826332753123\n",
            "i = 17 => f(x) = 0.0008087315030174125\n",
            "i = 18 => f(x) = 1.3268751963835257e-06\n",
            "i = 19 => f(x) = 4.1378456216989434e-11\n"
          ],
          "name": "stdout"
        },
        {
          "output_type": "execute_result",
          "data": {
            "text/plain": [
              "2.8169140527321637"
            ]
          },
          "metadata": {
            "tags": []
          },
          "execution_count": 48
        }
      ]
    },
    {
      "cell_type": "markdown",
      "metadata": {
        "id": "njITd44cV0Ge",
        "colab_type": "text"
      },
      "source": [
        "## A class of root estimation methods"
      ]
    },
    {
      "cell_type": "code",
      "metadata": {
        "id": "8MBdY_QQV0Gf",
        "colab_type": "code",
        "outputId": "21c12a70-cea5-4c4b-dec1-84ac9ae6f410",
        "colab": {
          "base_uri": "https://localhost:8080/",
          "height": 265
        }
      },
      "source": [
        "# Root Approximation Methods\n",
        "import numpy as np\n",
        "import matplotlib.pyplot as plt\n",
        "\n",
        "class RootsMeth:\n",
        "\n",
        "    def __init__(self, toll):\n",
        "        self.toll = toll\n",
        "    \n",
        "    def plot(self,f, xmin, xmax):\n",
        "        x = np.linspace(xmin, xmax, 50)\n",
        "        \n",
        "        plt.plot(x, f(x))\n",
        "        plt.grid(True)  \n",
        "\n",
        "    def bis(self,a,b, f):\n",
        "        i = 1\n",
        "        while np.abs(b - a) > self.toll:\n",
        "            xm = (b + a)/2\n",
        "            print('i = {} => f({}) = {} || |{} - {}| < {} [{}]'.format(i, xm, f(xm), b, a, self.toll, np.abs(b - a) < self.toll ))\n",
        "            if f(a) * f(xm) > 0:\n",
        "                a = xm\n",
        "            else:\n",
        "                b = xm\n",
        "            i += 1\n",
        "        return xm\n",
        "    def fpt(self, a, b, f):\n",
        "        i = 1\n",
        "        while np.abs(b - a) > self.toll:\n",
        "            xm = (f(b) * a - b * f(a))/(f(b) - f(a))\n",
        "            print('i = {} => f({}) = {} || |{} - {}| < {} [{}]'.format(i, xm, f(xm), b, a, self.toll, np.abs(b - a) < self.toll ))\n",
        "            if f(a) * f(xm) > 0:\n",
        "                a = xm\n",
        "            else:\n",
        "                b = xm\n",
        "            i += 1\n",
        "        return xm\n",
        "    def nrph(self, x0, f, df):\n",
        "        i = 1\n",
        "        N = 10**(4)\n",
        "        while i < N:\n",
        "            xk1 = x0 - f(x0)/df(x0)\n",
        "            print('i = {} => f({}) = {} || |{} - {}| < {} [{}]'.format(i, xk1, f(xk1), xk1, x0, self.toll, np.abs(x0 - xk1) < self.toll ))\n",
        "            if np.abs(x0 - xk1) < self.toll:\n",
        "                break\n",
        "            else:\n",
        "                x0 = xk1\n",
        "                i += 1\n",
        "        return xk1\n",
        "    def sct(self, xn, xn1, f):\n",
        "        N = 100\n",
        "        i = 1\n",
        "        while i < N:\n",
        "            xN1 = (f(xn) * xn1 - f(xn1) * xn)/(f(xn) - f(xn1))\n",
        "            print('i = {} => f({}) = {} '.format(i, xN1, f(xN1)))\n",
        "            if self.toll < abs(xN1 - xn):\n",
        "                xn1 = xn\n",
        "                xn = xN1\n",
        "                i += 1\n",
        "            else:\n",
        "                break\n",
        "        return xN1\n",
        "\n",
        "    \n",
        "\n",
        "\n",
        "RootsMeth(10**(-8)).plot(xmin = -4, xmax = 4, f = lambda x: np.sin(x))"
      ],
      "execution_count": 31,
      "outputs": [
        {
          "output_type": "display_data",
          "data": {
            "image/png": "[encoded data removed]",
            "text/plain": [
              "<Figure size 432x288 with 1 Axes>"
            ]
          },
          "metadata": {
            "tags": []
          }
        }
      ]
    },
    {
      "cell_type": "code",
      "metadata": {
        "id": "-nYKRWWPV0Gj",
        "colab_type": "code",
        "outputId": "bd780019-2c9d-43b3-ee1e-f8f3781a74fa",
        "colab": {
          "base_uri": "https://localhost:8080/",
          "height": 102
        }
      },
      "source": [
        "RootsMeth(10**(-5)).nrph(f = lambda x: np.exp(x) - 3*x**(2), df = lambda x: np.exp(x) - 6 *x, x0 = 1)"
      ],
      "execution_count": 32,
      "outputs": [
        {
          "output_type": "stream",
          "text": [
            "i = 1 => f(0.9141552818325432) = -0.01237256688275945 || |0.9141552818325432 - 1| < 1e-05 [False]\n",
            "i = 2 => f(0.9100176657834059) = -3.003483737851198e-05 || |0.9100176657834059 - 0.9141552818325432| < 1e-05 [False]\n",
            "i = 3 => f(0.9100075725488881) = -1.790749770691491e-10 || |0.9100075725488881 - 0.9100176657834059| < 1e-05 [False]\n",
            "i = 4 => f(0.9100075724887091) = -4.440892098500626e-16 || |0.9100075724887091 - 0.9100075725488881| < 1e-05 [True]\n"
          ],
          "name": "stdout"
        },
        {
          "output_type": "execute_result",
          "data": {
            "text/plain": [
              "0.9100075724887091"
            ]
          },
          "metadata": {
            "tags": []
          },
          "execution_count": 32
        }
      ]
    },
    {
      "cell_type": "code",
      "metadata": {
        "id": "rhmyoVqZV0Gm",
        "colab_type": "code",
        "colab": {
          "base_uri": "https://localhost:8080/",
          "height": 238
        },
        "outputId": "a6b0c204-e719-470a-d78f-23ca4b62fd8c"
      },
      "source": [
        "rm = RootsMeth(10**(-3))\n",
        "\n",
        "rm.bis(f = lambda x: (x + 2) * (x + 1) * x * (x - 1)**(3) * (x - 2), a = -1.5, b = 1.75)"
      ],
      "execution_count": 44,
      "outputs": [
        {
          "output_type": "stream",
          "text": [
            "i = 1 => f(0.125) = 0.37535905838012695 || |1.75 - -1.5| < 0.001 [False]\n",
            "i = 2 => f(0.9375) = 0.0013840757310390472 || |1.75 - 0.125| < 0.001 [False]\n",
            "i = 3 => f(1.34375) = -0.2807120130455587 || |1.75 - 0.9375| < 0.001 [False]\n",
            "i = 4 => f(1.140625) = -0.01832609293501264 || |1.34375 - 0.9375| < 0.001 [False]\n",
            "i = 5 => f(1.0390625) = -0.0003687967511378787 || |1.140625 - 0.9375| < 0.001 [False]\n",
            "i = 6 => f(0.98828125) = 9.560563926161447e-06 || |1.0390625 - 0.9375| < 0.001 [False]\n",
            "i = 7 => f(1.013671875) = -1.550556944898793e-05 || |1.0390625 - 0.98828125| < 0.001 [False]\n",
            "i = 8 => f(1.0009765625) = -5.5924784759719815e-09 || |1.013671875 - 0.98828125| < 0.001 [False]\n",
            "i = 9 => f(0.99462890625) = 9.255093072328412e-07 || |1.0009765625 - 0.98828125| < 0.001 [False]\n",
            "i = 10 => f(0.997802734375) = 6.3533274914865e-08 || |1.0009765625 - 0.99462890625| < 0.001 [False]\n",
            "i = 11 => f(0.9993896484375) = 1.3635477400109903e-09 || |1.0009765625 - 0.997802734375| < 0.001 [False]\n",
            "i = 12 => f(1.00018310546875) = -3.684015489653228e-11 || |1.0009765625 - 0.9993896484375| < 0.001 [False]\n"
          ],
          "name": "stdout"
        },
        {
          "output_type": "execute_result",
          "data": {
            "text/plain": [
              "1.00018310546875"
            ]
          },
          "metadata": {
            "tags": []
          },
          "execution_count": 44
        }
      ]
    },
    {
      "cell_type": "code",
      "metadata": {
        "id": "vQPZZbCPfE7D",
        "colab_type": "code",
        "colab": {
          "base_uri": "https://localhost:8080/",
          "height": 282
        },
        "outputId": "767564de-2fcf-4f6e-bd56-b04d3c062ea4"
      },
      "source": [
        "rm.plot(xmin = 0.95, xmax = 1.05, f = lambda x: (x + 2) * (x + 1) * x * (x - 1)**(3) * (x - 2))\n",
        "2.00048828125 - 1.9991455078125 < 0.001"
      ],
      "execution_count": 47,
      "outputs": [
        {
          "output_type": "execute_result",
          "data": {
            "text/plain": [
              "False"
            ]
          },
          "metadata": {
            "tags": []
          },
          "execution_count": 47
        },
        {
          "output_type": "display_data",
          "data": {
            "image/png": "[encoded data removed]",
            "text/plain": [
              "<Figure size 432x288 with 1 Axes>"
            ]
          },
          "metadata": {
            "tags": []
          }
        }
      ]
    },
    {
      "cell_type": "code",
      "metadata": {
        "id": "LMnFlyG2mCot",
        "colab_type": "code",
        "colab": {
          "base_uri": "https://localhost:8080/",
          "height": 102
        },
        "outputId": "502ca2da-351f-4b91-e348-9eeebda43bd0"
      },
      "source": [
        "rm.nrph(f = lambda x: np.exp(x) - 4 * x**(2), df = lambda x: np.exp(x) - 8*x, x0 = 0.5)"
      ],
      "execution_count": 48,
      "outputs": [
        {
          "output_type": "stream",
          "text": [
            "i = 1 => f(0.7759014754891669) = -0.23554265364231108 || |0.7759014754891669 - 0.5| < 0.001 [False]\n",
            "i = 2 => f(0.7175217028578307) = -0.010001557687626228 || |0.7175217028578307 - 0.7759014754891669| < 0.001 [False]\n",
            "i = 3 => f(0.7148118599229393) = -2.185535088594648e-05 || |0.7148118599229393 - 0.7175217028578307| < 0.001 [False]\n",
            "i = 4 => f(0.7148059123914456) = -1.053446219145826e-10 || |0.7148059123914456 - 0.7148118599229393| < 0.001 [True]\n"
          ],
          "name": "stdout"
        },
        {
          "output_type": "execute_result",
          "data": {
            "text/plain": [
              "0.7148059123914456"
            ]
          },
          "metadata": {
            "tags": []
          },
          "execution_count": 48
        }
      ]
    },
    {
      "cell_type": "code",
      "metadata": {
        "id": "UMwhKBXinB-x",
        "colab_type": "code",
        "colab": {
          "base_uri": "https://localhost:8080/",
          "height": 102
        },
        "outputId": "95da1aba-b2e8-4e24-c75c-f6c5c273f880"
      },
      "source": [
        "f = lambda x: np.exp(x) - 4 * x**(2)\n",
        "df = lambda x: np.exp(x) - 8*x\n",
        "x0 = 0.7148\n",
        "\n",
        "f(x0) , df(x0), x0 - f(x0)/df(x0) , np.abs((x0 - f(x0)/df(x0)) - x0), np.abs((x0 - f(x0)/df(x0)) - x0) < 10**(-3)\n"
      ],
      "execution_count": 55,
      "outputs": [
        {
          "output_type": "execute_result",
          "data": {
            "text/plain": [
              "(2.172580311343708e-05,\n",
              " -3.6746221141968864,\n",
              " 0.714805912391108,\n",
              " 5.912391108031656e-06,\n",
              " True)"
            ]
          },
          "metadata": {
            "tags": []
          },
          "execution_count": 55
        }
      ]
    },
    {
      "cell_type": "code",
      "metadata": {
        "id": "JEQEjBmGnEhs",
        "colab_type": "code",
        "colab": {}
      },
      "source": [
        ""
      ],
      "execution_count": 0,
      "outputs": []
    }
  ]
}