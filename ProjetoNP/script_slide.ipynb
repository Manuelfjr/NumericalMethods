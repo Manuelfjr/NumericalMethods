{
 "nbformat": 4,
 "nbformat_minor": 2,
 "metadata": {
  "language_info": {
   "name": "python",
   "codemirror_mode": {
    "name": "ipython",
    "version": 3
   },
   "version": "3.8.1-final"
  },
  "orig_nbformat": 2,
  "file_extension": ".py",
  "mimetype": "text/x-python",
  "name": "python",
  "npconvert_exporter": "python",
  "pygments_lexer": "ipython3",
  "version": 3,
  "kernelspec": {
   "name": "python38164bit33e34bedaddc47f5b5fab5407597121a",
   "display_name": "Python 3.8.1 64-bit"
  }
 },
 "cells": [
  {
   "cell_type": "markdown",
   "metadata": {},
   "source": [
    "# Resolução Computacional - Interpolação de Newton "
   ]
  },
  {
   "cell_type": "code",
   "execution_count": 1,
   "metadata": {},
   "outputs": [
    {
     "name": "stdout",
     "output_type": "stream",
     "text": "33203832.0 \n\n32359884.0 \n\n1.0260800687666247 \n\n"
    }
   ],
   "source": [
    "import numpy as np\n",
    "import pandas as pd\n",
    "\n",
    "banco=pd.read_csv('https://raw.githubusercontent.com/Manuelfjr/NumericalMethods/master/ProjetoNP/DadosCompletosMovimentacao.csv',sep = ';')\n",
    "\n",
    "fx0 = np.sum(banco[banco['Ano'] == 2019][banco['Mês'] == 'Março']['Passageiro (un)'])\n",
    "fx1 = np.sum(banco[banco['Ano'] == 2019][banco['Mês'] == 'Abril']['Passageiro (un)'])\n",
    "fx2 = np.sum(banco[banco['Ano'] == 2019][banco['Mês'] == 'Maio']['Passageiro (un)'])\n",
    "\n",
    "x0 = 1\n",
    "x1 = 2\n",
    "x2 = 3\n",
    "\n",
    "f = lambda x0,x1,fx0,fx1: (fx1 - fx0)/(x1 - x0) # Calculo das diferenciais \n",
    "\n",
    "d1 = f(x0,x1,fx0,fx1)\n",
    "fd1 = f(x1,x2,fx1,fx2)\n",
    "d2 = f(x0,x2, d1, fd1)\n",
    "\n",
    "\n",
    "pn = lambda x,d0,d1,d2: d0 + (x - 1)*d1 + (x - 2)*(x - 1)*d2 # Polinomio de 2º grau\n",
    "\n",
    "fn = pn(4,fx0,d1,d2)\n",
    "fr = np.sum(banco[banco['Ano'] == 2019][banco['Mês'] == 'Junho']['Passageiro (un)'])\n",
    "\n",
    "print(fn, '\\n') # Estimativa para o mes de junho de 2019\n",
    "print(fr, '\\n') # Valor real para o mês de junho de 2019\n",
    "print(fn/fr, '\\n') # Razão do meu valor estimado, pelo verdadeiro valor"
   ]
  },
  {
   "cell_type": "markdown",
   "metadata": {},
   "source": [
    "# Resolução Computacional – Regressão Linear"
   ]
  },
  {
   "cell_type": "code",
   "execution_count": 2,
   "metadata": {},
   "outputs": [
    {
     "data": {
      "text/plain": "33.122476000000006"
     },
     "execution_count": 2,
     "metadata": {},
     "output_type": "execute_result"
    }
   ],
   "source": [
    "import numpy as np\n",
    "import pandas as pd\n",
    "from scipy import stats\n",
    "\n",
    "df = pd.read_csv(\"https://raw.githubusercontent.com/Manuelfjr/NumericalMethods/master/ProjetoNP/DadosCompletosMovimentacao.csv\", sep = ';')\n",
    "\n",
    "df_jun = df[df['Mês'] == 'Junho'] # Um subconjunto de df com os valores para o mês de Junho\n",
    "\n",
    "passageiros_jun = np.zeros(16) # Vetor para o total de passageiros em Junho de cada ano\n",
    "\n",
    "for i in range(16): \n",
    "    passageiros_jun[i] = np.sum(df_jun['Passageiro (un)'][df_jun['Ano'] == 2004 + i])/1e6\n",
    "\n",
    "# A função linregress() de stats retorna 5 objetos\n",
    "\n",
    "coef_ang = np.zeros(14)  # Coeficiente angular\n",
    "intercept = np.zeros(14) # Intercept (Coeficiente linear)\n",
    "corr = np.zeros(14)      # Coeficiente de correlação\n",
    "p_valor = np.zeros(14)   # P-valor\n",
    "erro = np.zeros(14)      # Erro padrão\n",
    "estimativas = np.zeros(14)\n",
    "\n",
    "# Cada estimativa será feita com os três anos anteriores\n",
    "for i in range(14):\n",
    "    coef_ang[i], intercept[i], corr[i], p_valor[i], erro[i] = stats.linregress(range(2004 + i, 2007 + i),\n",
    "                                                                         passageiros_jun[range(i, i + 3)])\n",
    "\n",
    "    estimativas[i] = coef_ang[i]*(2007 + i) + intercept[i]\n",
    "\n",
    "estimativas[13] # Estimativa de total de passageiros (em milhões) para Junho de 2020 "
   ]
  },
  {
   "cell_type": "code",
   "execution_count": null,
   "metadata": {},
   "outputs": [],
   "source": []
  }
 ]
}